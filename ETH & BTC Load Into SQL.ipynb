{
 "cells": [
  {
   "cell_type": "code",
   "execution_count": null,
   "metadata": {},
   "outputs": [],
   "source": [
    "import pandas as pd\n",
    "from sqlalchemy import create_engine\n",
    "import config"
   ]
  },
  {
   "cell_type": "markdown",
   "metadata": {},
   "source": [
    "# Load Ethereum and Bitcoin Historical Data\n",
    "\n",
    "* This notebook should only be run **once** in order to load the cleaned, up-to-date (as of 8/14/20) 1-minute price history data for the Ethereum and Bitcoin cryptocurrencies\n",
    "\n",
    "* This notebook should be run only after creating the table schemas for the two cryptocurrencies in pgAdmin - the tables may be created in this notebook and loaded into the database directly from here at a later time, but for now that feature is unavailable\n",
    "\n",
    "* The table schema code will be included in this repo and the instructions to use it should be located in the README\n",
    "\n",
    "* A separate notebook will be created and used repeatedly to update the database incrementally as time goes on and the prices change and more data is generated"
   ]
  },
  {
   "cell_type": "markdown",
   "metadata": {},
   "source": [
    "## Load Ethereum Data\n",
    "\n",
    "* The steps below outline how to initially load the Ethereum (ETH) data from the .csv located in the **Ethereum/IO/** folder"
   ]
  },
  {
   "cell_type": "code",
   "execution_count": null,
   "metadata": {},
   "outputs": [],
   "source": [
    "#create the string to connect to the database - will be used with sqlalchemy!\n",
    "protocol = \"postgres\"\n",
    "user = config.user\n",
    "password = config.pw\n",
    "location = \"localhost\"\n",
    "port = \"5432\"\n",
    "database = \"crypto\"\n",
    "\n",
    "connection_string = f\"{protocol}://{user}:{password}@{location}:{port}/{database}\"\n",
    "print(connection_string)"
   ]
  },
  {
   "cell_type": "code",
   "execution_count": null,
   "metadata": {},
   "outputs": [],
   "source": [
    "# load in Ethereum csv file for the notebook, to be loaded into SQL\n",
    "eth_csv = './Ethereum/IO/ETH_1min.csv'\n",
    "\n",
    "eth_df = pd.read_csv(eth_csv)\n",
    "\n",
    "#convert the \"Date\" column to datetime objects with timezones, because it is read in as text\n",
    "eth_df[\"Date\"] = pd.to_datetime(eth_df[\"Date\"], utc=True)\n",
    "eth_df"
   ]
  },
  {
   "cell_type": "code",
   "execution_count": null,
   "metadata": {},
   "outputs": [],
   "source": [
    "#update the column names to match the schema of the database table\n",
    "sql_columns = [\"Unix_Timestamp\", \"Entry_Date\", \"Symbol\", \"Open_Price\", \"High_Price\", \"Low_Price\", \"Close_Price\", \"Coin_Volume\"]\n",
    "lowercase_sql_columns = [a.lower() for a in sql_columns]\n",
    "eth_df.columns = lowercase_sql_columns\n",
    "eth_df.head()"
   ]
  },
  {
   "cell_type": "code",
   "execution_count": null,
   "metadata": {},
   "outputs": [],
   "source": [
    "#setup the sqlalchemy engine\n",
    "\n",
    "#create the engine to interact with the database with the connection string\n",
    "engine = create_engine(connection_string)"
   ]
  },
  {
   "cell_type": "code",
   "execution_count": null,
   "metadata": {},
   "outputs": [],
   "source": [
    "#then load the dataframe into the SQL table!\n",
    "\n",
    "#**********THIS WILL FAIL UPON RUNNING AS A DEFAULT - ONLY CHANGE THE \"if_exists='fail'\" PARAMETER BELOW TO 'append' \n",
    "#**********IF LOADING DATA FOR THE FIRST TIME! OTHERWISE CHECK THE README FOR THE CORRECT NOTEBOOK TO UPDATE THE DATABASE!\n",
    "eth_df.to_sql(name=\"ethereum\", con=engine, index=False, if_exists=\"fail\")\n",
    "print(\"If you can see this, the table should have loaded successfully!\")"
   ]
  },
  {
   "cell_type": "code",
   "execution_count": null,
   "metadata": {},
   "outputs": [],
   "source": [
    "#check that the table loaded correctly by reading it from sql and comparing it to the \n",
    "#dataframe we inserted\n",
    "\n",
    "check_df = pd.read_sql_table(table_name=\"ethereum\", con=engine)\n",
    "check_df"
   ]
  },
  {
   "cell_type": "code",
   "execution_count": null,
   "metadata": {},
   "outputs": [],
   "source": [
    "#output whether the data read matches the data written to the database!\n",
    "\n",
    "#make sure both dataframes are sorted, and indexed correctly, or there may be issues - some data from the database was not\n",
    "#matching due to having the order changed upon insertion somehow!\n",
    "sorted_check_df = check_df.sort_values(by=\"unix_timestamp\").reset_index(drop=True)\n",
    "sorted_eth_df = eth_df.sort_values(by=\"unix_timestamp\").reset_index(drop=True)\n",
    "\n",
    "if(sorted_check_df.equals(sorted_eth_df)):\n",
    "    print(\"Good Job! You have successfully loaded the 'Ethereum' data!\")\n",
    "else:\n",
    "    print(\"It looks like the data you wrote to the database does not match the data read from the database.\")"
   ]
  },
  {
   "cell_type": "markdown",
   "metadata": {},
   "source": [
    "## Load Bitcoin Data\n",
    "\n",
    "* The steps below outline how to initially load the Bitcoin (BTC) data from the .csv located in the **Bitcoin/IO/** folder\n",
    "* The steps outlined below are essentially the same as the steps for loading the Ethereum data above, with some table names changed, so if you got the Ethereum data loaded already, loading the Bitcoin data here should not be a problem!"
   ]
  },
  {
   "cell_type": "code",
   "execution_count": null,
   "metadata": {},
   "outputs": [],
   "source": [
    "#already connected to the database from when we loaded the Ethereum data above\n",
    "#so the first step is to load the Bitcoin .csv file into the notebook\n",
    "\n",
    "\n",
    "# load in Bitcoin csv file for the notebook, to be loaded into SQL\n",
    "btc_csv = './Bitcoin/IO/coinbaseUSD_1-min_data.csv'\n",
    "\n",
    "btc_df = pd.read_csv(btc_csv)\n",
    "\n",
    "#convert the \"Date\" column to datetime objects with timezones, because it is read in as text\n",
    "btc_df[\"Date\"] = pd.to_datetime(btc_df[\"Date\"], utc=True)\n",
    "btc_df"
   ]
  },
  {
   "cell_type": "code",
   "execution_count": null,
   "metadata": {},
   "outputs": [],
   "source": [
    "#update the column names to match the schema of the database table\n",
    "sql_columns = [\"Unix_Timestamp\", \"Entry_Date\", \"Symbol\", \"Open_Price\", \"High_Price\", \"Low_Price\", \"Close_Price\", \"Coin_Volume\"]\n",
    "lowercase_sql_columns = [a.lower() for a in sql_columns]\n",
    "btc_df.columns = lowercase_sql_columns\n",
    "btc_df.head()"
   ]
  },
  {
   "cell_type": "code",
   "execution_count": null,
   "metadata": {},
   "outputs": [],
   "source": [
    "#load the dataframe into the SQL table!\n",
    "#no need to create the engine, it should already exist from loading the Ethereum data\n",
    "\n",
    "#**********THIS WILL FAIL UPON RUNNING AS A DEFAULT - ONLY CHANGE THE \"if_exists='fail'\" PARAMETER BELOW TO 'append' \n",
    "#**********IF LOADING DATA FOR THE FIRST TIME! OTHERWISE CHECK THE README FOR THE CORRECT NOTEBOOK TO UPDATE THE DATABASE!\n",
    "btc_df.to_sql(name=\"bitcoin\", con=engine, index=False, if_exists=\"fail\")\n",
    "print(\"If you can see this, the table should have loaded successfully!\")"
   ]
  },
  {
   "cell_type": "code",
   "execution_count": null,
   "metadata": {},
   "outputs": [],
   "source": [
    "#check that the table loaded correctly by reading it from sql and comparing it to the \n",
    "#dataframe we inserted\n",
    "check_btc_df = pd.read_sql_table(table_name=\"bitcoin\", con=engine)\n",
    "check_btc_df"
   ]
  },
  {
   "cell_type": "code",
   "execution_count": null,
   "metadata": {},
   "outputs": [],
   "source": [
    "#output whether the data read matches the data written to the database!\n",
    "\n",
    "#make sure both dataframes are sorted, and indexed correctly, or there may be issues - the data from the database was not\n",
    "#matching due to having the order changed upon insertion somehow!\n",
    "sorted_check_btc_df = check_btc_df.sort_values(by=\"unix_timestamp\").reset_index(drop=True)\n",
    "sorted_btc_df = btc_df.sort_values(by=\"unix_timestamp\").reset_index(drop=True)\n",
    "\n",
    "if(sorted_check_btc_df.equals(sorted_btc_df)):\n",
    "    print(\"Good Job! You have successfully loaded the 'Bitcoin' data!\")\n",
    "else:\n",
    "    print(\"It looks like the data you wrote to the database does not match the data read from the database.\")"
   ]
  },
  {
   "cell_type": "code",
   "execution_count": null,
   "metadata": {},
   "outputs": [],
   "source": []
  }
 ],
 "metadata": {
  "kernelspec": {
   "display_name": "Python 3",
   "language": "python",
   "name": "python3"
  },
  "language_info": {
   "codemirror_mode": {
    "name": "ipython",
    "version": 3
   },
   "file_extension": ".py",
   "mimetype": "text/x-python",
   "name": "python",
   "nbconvert_exporter": "python",
   "pygments_lexer": "ipython3",
   "version": "3.7.6"
  }
 },
 "nbformat": 4,
 "nbformat_minor": 4
}
